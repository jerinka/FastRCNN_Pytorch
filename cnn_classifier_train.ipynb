{
 "cells": [
  {
   "cell_type": "markdown",
   "metadata": {},
   "source": [
    "## Set dataset path"
   ]
  },
  {
   "cell_type": "code",
   "execution_count": 2,
   "metadata": {},
   "outputs": [
    {
     "name": "stdout",
     "output_type": "stream",
     "text": [
      "Selected Experiemnt: warning\n"
     ]
    }
   ],
   "source": [
    "exprmnt = 'warning' #'level1', 'mandatory', 'prohibitory', 'warning'\n",
    "print('Selected Experiemnt:',exprmnt)"
   ]
  },
  {
   "cell_type": "markdown",
   "metadata": {
    "id": "zF9uvbXNVrVY"
   },
   "source": [
    "## Import TensorFlow and other libraries"
   ]
  },
  {
   "cell_type": "code",
   "execution_count": null,
   "metadata": {
    "execution": {
     "iopub.execute_input": "2021-01-08T05:00:21.302568Z",
     "iopub.status.busy": "2021-01-08T05:00:21.301978Z",
     "iopub.status.idle": "2021-01-08T05:00:27.183449Z",
     "shell.execute_reply": "2021-01-08T05:00:27.183886Z"
    },
    "id": "L1WtoaOHVrVh"
   },
   "outputs": [],
   "source": [
    "import matplotlib.pyplot as plt\n",
    "import numpy as np\n",
    "import os\n",
    "import PIL\n",
    "import tensorflow as tf\n",
    "\n",
    "from tensorflow import keras\n",
    "from tensorflow.keras import layers\n",
    "from tensorflow.keras.models import Sequential"
   ]
  },
  {
   "cell_type": "code",
   "execution_count": null,
   "metadata": {
    "execution": {
     "iopub.execute_input": "2021-01-08T05:00:27.189625Z",
     "iopub.status.busy": "2021-01-08T05:00:27.189024Z",
     "iopub.status.idle": "2021-01-08T05:00:30.598479Z",
     "shell.execute_reply": "2021-01-08T05:00:30.597856Z"
    },
    "id": "57CcilYSG0zv"
   },
   "outputs": [],
   "source": [
    "import pathlib\n",
    "#dataset_url = \"https://storage.googleapis.com/download.tensorflow.org/example_images/flower_photos.tgz\"\n",
    "#data_dir = tf.keras.utils.get_file('flower_photos', origin=dataset_url, untar=True)\n",
    "data_dir = os.path.join(os.getcwd(),'DB',exprmnt)\n",
    "data_dir = pathlib.Path(data_dir)"
   ]
  },
  {
   "cell_type": "code",
   "execution_count": null,
   "metadata": {},
   "outputs": [],
   "source": [
    "data_dir"
   ]
  },
  {
   "cell_type": "markdown",
   "metadata": {
    "id": "VpmywIlsVrVx"
   },
   "source": [
    "After downloading, you should now have a copy of the dataset available. There are 3,670 total images:"
   ]
  },
  {
   "cell_type": "code",
   "execution_count": null,
   "metadata": {
    "execution": {
     "iopub.execute_input": "2021-01-08T05:00:30.603139Z",
     "iopub.status.busy": "2021-01-08T05:00:30.602470Z",
     "iopub.status.idle": "2021-01-08T05:00:30.616212Z",
     "shell.execute_reply": "2021-01-08T05:00:30.615717Z"
    },
    "id": "SbtTDYhOHZb6"
   },
   "outputs": [],
   "source": [
    "image_count = len(list(data_dir.glob('*/*.png')))\n",
    "print(image_count)"
   ]
  },
  {
   "cell_type": "markdown",
   "metadata": {
    "id": "PVmwkOSdHZ5A"
   },
   "source": [
    "Here are some images:"
   ]
  },
  {
   "cell_type": "code",
   "execution_count": null,
   "metadata": {
    "execution": {
     "iopub.execute_input": "2021-01-08T05:00:30.620036Z",
     "iopub.status.busy": "2021-01-08T05:00:30.619489Z",
     "iopub.status.idle": "2021-01-08T05:00:30.724439Z",
     "shell.execute_reply": "2021-01-08T05:00:30.724813Z"
    },
    "id": "N1loMlbYHeiJ"
   },
   "outputs": [],
   "source": [
    "roses = list(data_dir.glob('*/*.png'))\n",
    "#PIL.Image.open(str(roses[0]))\n",
    "roses"
   ]
  },
  {
   "cell_type": "code",
   "execution_count": null,
   "metadata": {
    "execution": {
     "iopub.execute_input": "2021-01-08T05:00:30.728940Z",
     "iopub.status.busy": "2021-01-08T05:00:30.728382Z",
     "iopub.status.idle": "2021-01-08T05:00:30.784007Z",
     "shell.execute_reply": "2021-01-08T05:00:30.784392Z"
    },
    "id": "RQbZBOTLHiUP"
   },
   "outputs": [],
   "source": [
    "PIL.Image.open(str(roses[1]))"
   ]
  },
  {
   "cell_type": "markdown",
   "metadata": {
    "id": "DGEqiBbRHnyI"
   },
   "source": [
    "And some tulips:"
   ]
  },
  {
   "cell_type": "code",
   "execution_count": null,
   "metadata": {
    "execution": {
     "iopub.execute_input": "2021-01-08T05:00:30.788168Z",
     "iopub.status.busy": "2021-01-08T05:00:30.787632Z",
     "iopub.status.idle": "2021-01-08T05:00:30.843120Z",
     "shell.execute_reply": "2021-01-08T05:00:30.843506Z"
    },
    "id": "HyQkfPGdHilw"
   },
   "outputs": [],
   "source": [
    "PIL.Image.open(str(roses[0]))"
   ]
  },
  {
   "cell_type": "markdown",
   "metadata": {
    "id": "gIjgz7_JIo_m"
   },
   "source": [
    "# Load using keras.preprocessing\n",
    "\n",
    "Let's load these images off disk using the helpful [image_dataset_from_directory](https://www.tensorflow.org/api_docs/python/tf/keras/preprocessing/image_dataset_from_directory) utility. This will take you from a directory of images on disk to a `tf.data.Dataset` in just a couple lines of code. If you like, you can also write your own data loading code from scratch by visiting the [load images](https://www.tensorflow.org/tutorials/load_data/images) tutorial."
   ]
  },
  {
   "cell_type": "markdown",
   "metadata": {
    "id": "xyDNn9MbIzfT"
   },
   "source": [
    "## Create a dataset"
   ]
  },
  {
   "cell_type": "markdown",
   "metadata": {
    "id": "anqiK_AGI086"
   },
   "source": [
    "Define some parameters for the loader:"
   ]
  },
  {
   "cell_type": "code",
   "execution_count": null,
   "metadata": {
    "execution": {
     "iopub.execute_input": "2021-01-08T05:00:30.871161Z",
     "iopub.status.busy": "2021-01-08T05:00:30.870601Z",
     "iopub.status.idle": "2021-01-08T05:00:30.872349Z",
     "shell.execute_reply": "2021-01-08T05:00:30.872704Z"
    },
    "id": "H74l2DoDI2XD"
   },
   "outputs": [],
   "source": [
    "batch_size = 1\n",
    "img_height = 128\n",
    "img_width = 128"
   ]
  },
  {
   "cell_type": "markdown",
   "metadata": {
    "id": "pFBhRrrEI49z"
   },
   "source": [
    "It's good practice to use a validation split when developing your model. Let's use 80% of the images for training, and 20% for validation."
   ]
  },
  {
   "cell_type": "code",
   "execution_count": null,
   "metadata": {
    "execution": {
     "iopub.execute_input": "2021-01-08T05:00:30.876664Z",
     "iopub.status.busy": "2021-01-08T05:00:30.875983Z",
     "iopub.status.idle": "2021-01-08T05:00:32.553310Z",
     "shell.execute_reply": "2021-01-08T05:00:32.553729Z"
    },
    "id": "fIR0kRZiI_AT"
   },
   "outputs": [],
   "source": [
    "train_ds = tf.keras.preprocessing.image_dataset_from_directory(\n",
    "  data_dir,\n",
    "  validation_split=0.3,\n",
    "  subset=\"training\",\n",
    "  seed=123,\n",
    "  image_size=(img_height, img_width),\n",
    "  batch_size=batch_size)"
   ]
  },
  {
   "cell_type": "code",
   "execution_count": null,
   "metadata": {
    "execution": {
     "iopub.execute_input": "2021-01-08T05:00:32.558701Z",
     "iopub.status.busy": "2021-01-08T05:00:32.558077Z",
     "iopub.status.idle": "2021-01-08T05:00:32.679595Z",
     "shell.execute_reply": "2021-01-08T05:00:32.679949Z"
    },
    "id": "iscU3UoVJBXj"
   },
   "outputs": [],
   "source": [
    "val_ds = tf.keras.preprocessing.image_dataset_from_directory(\n",
    "  data_dir, #can be replaced with a val dir if more images are there\n",
    "  validation_split=0.2,\n",
    "  subset=\"validation\",\n",
    "  seed=123,\n",
    "  image_size=(img_height, img_width),\n",
    "  batch_size=batch_size)"
   ]
  },
  {
   "cell_type": "markdown",
   "metadata": {
    "id": "WLQULyAvJC3X"
   },
   "source": [
    "You can find the class names in the `class_names` attribute on these datasets. These correspond to the directory names in alphabetical order."
   ]
  },
  {
   "cell_type": "code",
   "execution_count": null,
   "metadata": {
    "execution": {
     "iopub.execute_input": "2021-01-08T05:00:32.683843Z",
     "iopub.status.busy": "2021-01-08T05:00:32.683202Z",
     "iopub.status.idle": "2021-01-08T05:00:32.685744Z",
     "shell.execute_reply": "2021-01-08T05:00:32.686114Z"
    },
    "id": "ZHAxkHX5JD3k"
   },
   "outputs": [],
   "source": [
    "class_names = train_ds.class_names\n",
    "print(class_names)\n",
    "num_classes = len(class_names)\n",
    "print('num_classes',num_classes)"
   ]
  },
  {
   "cell_type": "markdown",
   "metadata": {
    "id": "_uoVvxSLJW9m"
   },
   "source": [
    "## Visualize the data\n",
    "\n",
    "Here are the first 9 images from the training dataset."
   ]
  },
  {
   "cell_type": "code",
   "execution_count": null,
   "metadata": {
    "execution": {
     "iopub.execute_input": "2021-01-08T05:00:32.693419Z",
     "iopub.status.busy": "2021-01-08T05:00:32.692462Z",
     "iopub.status.idle": "2021-01-08T05:00:33.672462Z",
     "shell.execute_reply": "2021-01-08T05:00:33.673035Z"
    },
    "id": "wBmEA9c0JYes"
   },
   "outputs": [],
   "source": [
    "import matplotlib.pyplot as plt\n",
    "\n",
    "plt.figure(figsize=(10, 10))\n",
    "k=0\n",
    "for images, labels in train_ds.take(6):\n",
    "  for i in range(1):\n",
    "    ax = plt.subplot(3, 3, k + 1)\n",
    "    k+=1\n",
    "    plt.imshow(images[i].numpy().astype(\"uint8\"))\n",
    "    plt.title(class_names[labels[i]])\n",
    "    plt.axis(\"off\")"
   ]
  },
  {
   "cell_type": "markdown",
   "metadata": {
    "id": "5M6BXtXFJdW0"
   },
   "source": [
    "You will train a model using these datasets by passing them to `model.fit` in a moment. If you like, you can also manually iterate over the dataset and retrieve batches of images:"
   ]
  },
  {
   "cell_type": "code",
   "execution_count": null,
   "metadata": {
    "execution": {
     "iopub.execute_input": "2021-01-08T05:00:33.679186Z",
     "iopub.status.busy": "2021-01-08T05:00:33.678628Z",
     "iopub.status.idle": "2021-01-08T05:00:34.100884Z",
     "shell.execute_reply": "2021-01-08T05:00:34.101361Z"
    },
    "id": "2-MfMoenJi8s"
   },
   "outputs": [],
   "source": [
    "for image_batch, labels_batch in train_ds:\n",
    "  print(image_batch.shape)\n",
    "  print(labels_batch.shape)\n",
    "  break"
   ]
  },
  {
   "cell_type": "markdown",
   "metadata": {
    "id": "Wj4FrKxxJkoW"
   },
   "source": [
    "The `image_batch` is a tensor of the shape `(32, 180, 180, 3)`. This is a batch of 32 images of shape `180x180x3` (the last dimension refers to color channels RGB). The `label_batch` is a tensor of the shape `(32,)`, these are corresponding labels to the 32 images. \n",
    "\n",
    "You can call `.numpy()` on the `image_batch` and `labels_batch` tensors to convert them to a `numpy.ndarray`.\n"
   ]
  },
  {
   "cell_type": "markdown",
   "metadata": {
    "id": "4Dr0at41KcAU"
   },
   "source": [
    "## Configure the dataset for performance\n",
    "\n",
    "Let's make sure to use buffered prefetching so you can yield data from disk without having I/O become blocking. These are two important methods you should use when loading data.\n",
    "\n",
    "`Dataset.cache()` keeps the images in memory after they're loaded off disk during the first epoch. This will ensure the dataset does not become a bottleneck while training your model. If your dataset is too large to fit into memory, you can also use this method to create a performant on-disk cache.\n",
    "\n",
    "`Dataset.prefetch()` overlaps data preprocessing and model execution while training. \n",
    "\n",
    "Interested readers can learn more about both methods, as well as how to cache data to disk in the [data performance guide](https://www.tensorflow.org/guide/data_performance#prefetching)."
   ]
  },
  {
   "cell_type": "code",
   "execution_count": null,
   "metadata": {},
   "outputs": [],
   "source": [
    "AUTOTUNE = tf.data.experimental.AUTOTUNE"
   ]
  },
  {
   "cell_type": "code",
   "execution_count": null,
   "metadata": {
    "execution": {
     "iopub.execute_input": "2021-01-08T05:00:34.105663Z",
     "iopub.status.busy": "2021-01-08T05:00:34.105064Z",
     "iopub.status.idle": "2021-01-08T05:00:34.108840Z",
     "shell.execute_reply": "2021-01-08T05:00:34.108412Z"
    },
    "id": "nOjJSm7DKoZA"
   },
   "outputs": [],
   "source": [
    "train_ds = train_ds.cache().shuffle(10).prefetch(buffer_size=AUTOTUNE)\n",
    "val_ds = val_ds.cache().prefetch(buffer_size=AUTOTUNE)"
   ]
  },
  {
   "cell_type": "markdown",
   "metadata": {
    "id": "8GUnmPF4JvEf"
   },
   "source": [
    "## Standardize the data"
   ]
  },
  {
   "cell_type": "markdown",
   "metadata": {
    "id": "e56VXHMWJxYT"
   },
   "source": [
    "The RGB channel values are in the `[0, 255]` range. This is not ideal for a neural network; in general you should seek to make your input values small. Here, you will standardize values to be in the `[0, 1]` range by using a Rescaling layer."
   ]
  },
  {
   "cell_type": "markdown",
   "metadata": {
    "id": "8aGpkwFaIw4i"
   },
   "source": [
    "Note: The Keras Preprocessing utilities and layers introduced in this section are currently experimental and may change."
   ]
  },
  {
   "cell_type": "markdown",
   "metadata": {
    "id": "Bl4RmanbJ4g0"
   },
   "source": [
    "There are two ways to use this layer. You can apply it to the dataset by calling map:"
   ]
  },
  {
   "cell_type": "markdown",
   "metadata": {
    "id": "XWEOmRSBJ9J8"
   },
   "source": [
    "Or, you can include the layer inside your model definition, which can simplify deployment. Let's use the second approach here."
   ]
  },
  {
   "cell_type": "markdown",
   "metadata": {
    "id": "XsRk1xCwKZR4"
   },
   "source": [
    "Note: you previously resized images using the `image_size` argument of `image_dataset_from_directory`. If you want to include the resizing logic in your model as well, you can use the [Resizing](https://www.tensorflow.org/api_docs/python/tf/keras/layers/experimental/preprocessing/Resizing) layer."
   ]
  },
  {
   "cell_type": "markdown",
   "metadata": {
    "id": "WcUTyDOPKucd"
   },
   "source": [
    "# Create the model\n",
    "\n",
    "The model consists of three convolution blocks with a max pool layer in each of them. There's a fully connected layer with 128 units on top of it that is activated by a `relu` activation function. This model has not been tuned for high accuracy, the goal of this tutorial is to show a standard approach. "
   ]
  },
  {
   "cell_type": "code",
   "execution_count": null,
   "metadata": {},
   "outputs": [],
   "source": [
    "if 0:\n",
    "    # keras imports\n",
    "    import tensorflow as tf\n",
    "    from tensorflow.keras.applications import MobileNetV2\n",
    "    from tensorflow.keras.models import Model, load_model\n",
    "    from tensorflow.keras.layers import Dense, GlobalAveragePooling2D, Input, Dropout\n",
    "    from tensorflow.keras.utils import to_categorical\n",
    "    from tensorflow.keras.optimizers import SGD\n",
    "    from tensorflow.keras.callbacks import ModelCheckpoint\n",
    "\n",
    "    # other imports\n",
    "    import json\n",
    "    import datetime\n",
    "    import time\n",
    "    def get_mobilenetv2(num_classes=3):\n",
    "        base_model = MobileNetV2(include_top=False, weights='imagenet', \n",
    "                                input_tensor=Input(shape=(224,224,3)), input_shape=(224,224,3))\n",
    "        top_layers = base_model.output\n",
    "        top_layers = GlobalAveragePooling2D()(top_layers)\n",
    "        top_layers = Dropout(.2)(top_layers)\n",
    "        top_layers = Dense(128, activation='relu')(top_layers)\n",
    "        predictions = Dense(num_classes, activation='softmax')(top_layers)\n",
    "        model = Model(inputs=base_model.input, outputs=predictions)\n",
    "        return model"
   ]
  },
  {
   "cell_type": "code",
   "execution_count": null,
   "metadata": {},
   "outputs": [],
   "source": [
    "\n",
    "def get_simplecnn(num_classes):\n",
    "    model = Sequential([\n",
    "      layers.experimental.preprocessing.Rescaling(1./255, input_shape=(img_height, img_width, 3)),\n",
    "      layers.Conv2D(16, 3, padding='same', activation='relu'),\n",
    "      layers.MaxPooling2D(),\n",
    "      layers.Dropout(0.2),\n",
    "      layers.Conv2D(32, 3, padding='same', activation='relu'),\n",
    "      layers.MaxPooling2D(),\n",
    "      layers.Conv2D(64, 3, padding='same', activation='relu'),\n",
    "      layers.MaxPooling2D(),\n",
    "      layers.Conv2D(128, 3, padding='same', activation='relu'),\n",
    "      layers.MaxPooling2D(),\n",
    "      layers.Dropout(0.2),\n",
    "      layers.Flatten(),\n",
    "      layers.Dense(128, activation='relu'),\n",
    "      layers.Dense(num_classes)\n",
    "    ])\n",
    "    return model\n",
    "\n",
    "def get_model(num_classes):\n",
    "    return get_simplecnn(num_classes)\n",
    "    #return get_mobilenetv2(num_classes)\n",
    "model = get_model(num_classes=num_classes)\n",
    "model.summary()"
   ]
  },
  {
   "cell_type": "markdown",
   "metadata": {
    "id": "EaKFzz72Lqpg"
   },
   "source": [
    "## Compile the model\n",
    "\n",
    "For this tutorial, choose the `optimizers.Adam` optimizer and `losses.SparseCategoricalCrossentropy` loss function. To view training and validation accuracy for each training epoch, pass the `metrics` argument."
   ]
  },
  {
   "cell_type": "code",
   "execution_count": null,
   "metadata": {
    "execution": {
     "iopub.execute_input": "2021-01-08T05:00:38.990270Z",
     "iopub.status.busy": "2021-01-08T05:00:38.989679Z",
     "iopub.status.idle": "2021-01-08T05:00:39.004344Z",
     "shell.execute_reply": "2021-01-08T05:00:39.003890Z"
    },
    "id": "jloGNS1MLx3A"
   },
   "outputs": [],
   "source": [
    "model.compile(optimizer='adam',\n",
    "              loss=tf.keras.losses.SparseCategoricalCrossentropy(from_logits=True),\n",
    "              metrics=['accuracy'])"
   ]
  },
  {
   "cell_type": "markdown",
   "metadata": {
    "id": "NiYHcbvaL9H-"
   },
   "source": [
    "## Train the model without augmentation"
   ]
  },
  {
   "cell_type": "code",
   "execution_count": null,
   "metadata": {},
   "outputs": [],
   "source": [
    "#model.load_weights(exprmnt+'.h5')"
   ]
  },
  {
   "cell_type": "code",
   "execution_count": null,
   "metadata": {
    "execution": {
     "iopub.execute_input": "2021-01-08T05:00:39.017182Z",
     "iopub.status.busy": "2021-01-08T05:00:39.016534Z",
     "iopub.status.idle": "2021-01-08T05:00:52.703039Z",
     "shell.execute_reply": "2021-01-08T05:00:52.703406Z"
    },
    "id": "5fWToCqYMErH"
   },
   "outputs": [],
   "source": [
    "epochs=10\n",
    "history = model.fit(\n",
    "  train_ds,\n",
    "  validation_data=val_ds,\n",
    "  epochs=epochs\n",
    ")"
   ]
  },
  {
   "cell_type": "markdown",
   "metadata": {
    "id": "SyFKdQpXMJT4"
   },
   "source": [
    "## Visualize training results"
   ]
  },
  {
   "cell_type": "markdown",
   "metadata": {
    "id": "dFvOvmAmMK9w"
   },
   "source": [
    "Create plots of loss and accuracy on the training and validation sets."
   ]
  },
  {
   "cell_type": "code",
   "execution_count": null,
   "metadata": {
    "execution": {
     "iopub.execute_input": "2021-01-08T05:00:52.726858Z",
     "iopub.status.busy": "2021-01-08T05:00:52.721986Z",
     "iopub.status.idle": "2021-01-08T05:00:52.943458Z",
     "shell.execute_reply": "2021-01-08T05:00:52.943861Z"
    },
    "id": "jWnopEChMMCn"
   },
   "outputs": [],
   "source": [
    "acc = history.history['accuracy']\n",
    "val_acc = history.history['val_accuracy']\n",
    "\n",
    "loss = history.history['loss']\n",
    "val_loss = history.history['val_loss']\n",
    "\n",
    "epochs_range = range(epochs)\n",
    "\n",
    "plt.figure(figsize=(8, 8))\n",
    "plt.subplot(1, 2, 1)\n",
    "plt.plot(epochs_range, acc, label='Training Accuracy')\n",
    "plt.plot(epochs_range, val_acc, label='Validation Accuracy')\n",
    "plt.legend(loc='lower right')\n",
    "plt.title('Training and Validation Accuracy')\n",
    "\n",
    "plt.subplot(1, 2, 2)\n",
    "plt.plot(epochs_range, loss, label='Training Loss')\n",
    "plt.plot(epochs_range, val_loss, label='Validation Loss')\n",
    "plt.legend(loc='upper right')\n",
    "plt.title('Training and Validation Loss')\n",
    "plt.show()"
   ]
  },
  {
   "cell_type": "markdown",
   "metadata": {
    "id": "hO_jT7HwMrEn"
   },
   "source": [
    "As you can see from the plots, training accuracy and validation accuracy are off by large margin and the model has achieved only around 60% accuracy on the validation set.\n",
    "\n",
    "Let's look at what went wrong and try to increase the overall performance of the model."
   ]
  },
  {
   "cell_type": "markdown",
   "metadata": {
    "id": "hqtyGodAMvNV"
   },
   "source": [
    "## Overfitting"
   ]
  },
  {
   "cell_type": "markdown",
   "metadata": {
    "id": "ixsz9XFfMxcu"
   },
   "source": [
    "In the plots above, the training accuracy is increasing linearly over time, whereas validation accuracy stalls around 60% in the training process. Also, the difference in accuracy between training and validation accuracy is noticeable—a sign of [overfitting](https://www.tensorflow.org/tutorials/keras/overfit_and_underfit).\n",
    "\n",
    "When there are a small number of training examples, the model sometimes learns from noises or unwanted details from training examples—to an extent that it negatively impacts the performance of the model on new examples. This phenomenon is known as overfitting. It means that the model will have a difficult time generalizing on a new dataset.\n",
    "\n",
    "There are multiple ways to fight overfitting in the training process. In this tutorial, you'll use *data augmentation* and add *Dropout* to your model."
   ]
  },
  {
   "cell_type": "markdown",
   "metadata": {
    "id": "BDMfYqwmM1C-"
   },
   "source": [
    "## Data augmentation"
   ]
  },
  {
   "cell_type": "markdown",
   "metadata": {
    "id": "GxYwix81M2YO"
   },
   "source": [
    "Overfitting generally occurs when there are a small number of training examples. [Data augmentation](https://www.tensorflow.org/tutorials/images/data_augmentation) takes the approach of generating additional training data from your existing examples by augmenting them using random transformations that yield believable-looking images. This helps expose the model to more aspects of the data and generalize better.\n",
    "\n",
    "You will implement data augmentation using the layers from `tf.keras.layers.experimental.preprocessing`. These can be included inside your model like other layers, and run on the GPU."
   ]
  },
  {
   "cell_type": "code",
   "execution_count": null,
   "metadata": {
    "execution": {
     "iopub.execute_input": "2021-01-08T05:00:52.951298Z",
     "iopub.status.busy": "2021-01-08T05:00:52.950419Z",
     "iopub.status.idle": "2021-01-08T05:00:53.051532Z",
     "shell.execute_reply": "2021-01-08T05:00:53.051051Z"
    },
    "id": "9J80BAbIMs21"
   },
   "outputs": [],
   "source": [
    "data_augmentation = keras.Sequential(\n",
    "  [\n",
    "    layers.experimental.preprocessing.RandomFlip(\"horizontal\", \n",
    "                                                 input_shape=(img_height, \n",
    "                                                              img_width,\n",
    "                                                              3)),\n",
    "    layers.experimental.preprocessing.RandomRotation(0.1),\n",
    "    layers.experimental.preprocessing.RandomZoom(0.1),\n",
    "  ]\n",
    ")"
   ]
  },
  {
   "cell_type": "markdown",
   "metadata": {
    "id": "PN4k1dK3S6eV"
   },
   "source": [
    "Let's visualize what a few augmented examples look like by applying data augmentation to the same image several times:"
   ]
  },
  {
   "cell_type": "code",
   "execution_count": null,
   "metadata": {
    "execution": {
     "iopub.execute_input": "2021-01-08T05:00:53.058202Z",
     "iopub.status.busy": "2021-01-08T05:00:53.057215Z",
     "iopub.status.idle": "2021-01-08T05:00:53.662463Z",
     "shell.execute_reply": "2021-01-08T05:00:53.662847Z"
    },
    "id": "7Z90k539S838"
   },
   "outputs": [],
   "source": [
    "plt.figure(figsize=(10, 10))\n",
    "for images, _ in train_ds.take(1):\n",
    "  for i in range(9):\n",
    "    augmented_images = data_augmentation(images)\n",
    "    ax = plt.subplot(3, 3, i + 1)\n",
    "    plt.imshow(augmented_images[0].numpy().astype(\"uint8\"))\n",
    "    plt.axis(\"off\")"
   ]
  },
  {
   "cell_type": "markdown",
   "metadata": {
    "id": "tsjXCBLYYNs5"
   },
   "source": [
    "You will use data augmentation to train a model in a moment."
   ]
  },
  {
   "cell_type": "code",
   "execution_count": null,
   "metadata": {
    "execution": {
     "iopub.execute_input": "2021-01-08T05:00:53.824051Z",
     "iopub.status.busy": "2021-01-08T05:00:53.823156Z",
     "iopub.status.idle": "2021-01-08T05:01:10.324177Z",
     "shell.execute_reply": "2021-01-08T05:01:10.323700Z"
    },
    "id": "LWS-vvNaZDag"
   },
   "outputs": [],
   "source": [
    "epochs = 15\n",
    "history = model.fit(\n",
    "  train_ds,\n",
    "  validation_data=val_ds,\n",
    "  epochs=epochs\n",
    ")"
   ]
  },
  {
   "cell_type": "code",
   "execution_count": null,
   "metadata": {},
   "outputs": [],
   "source": [
    "model.evaluate(val_ds)"
   ]
  },
  {
   "cell_type": "code",
   "execution_count": null,
   "metadata": {},
   "outputs": [],
   "source": [
    "model.save(exprmnt+'.h5')"
   ]
  },
  {
   "cell_type": "code",
   "execution_count": null,
   "metadata": {},
   "outputs": [],
   "source": [
    "#model=tf.keras.models.load_model(exprmnt+'.h5')"
   ]
  },
  {
   "cell_type": "markdown",
   "metadata": {
    "id": "Lkdl8VsBbZOu"
   },
   "source": [
    "## Visualize training results\n",
    "\n",
    "After applying data augmentation and Dropout, there is less overfitting than before, and training and validation accuracy are closer aligned. "
   ]
  },
  {
   "cell_type": "code",
   "execution_count": null,
   "metadata": {
    "execution": {
     "iopub.execute_input": "2021-01-08T05:01:10.340657Z",
     "iopub.status.busy": "2021-01-08T05:01:10.336472Z",
     "iopub.status.idle": "2021-01-08T05:01:10.555058Z",
     "shell.execute_reply": "2021-01-08T05:01:10.554612Z"
    },
    "id": "dduoLfKsZVIA"
   },
   "outputs": [],
   "source": [
    "acc = history.history['accuracy']\n",
    "val_acc = history.history['val_accuracy']\n",
    "\n",
    "loss = history.history['loss']\n",
    "val_loss = history.history['val_loss']\n",
    "\n",
    "epochs_range = range(epochs)\n",
    "\n",
    "plt.figure(figsize=(8, 8))\n",
    "plt.subplot(1, 2, 1)\n",
    "plt.plot(epochs_range, acc, label='Training Accuracy')\n",
    "plt.plot(epochs_range, val_acc, label='Validation Accuracy')\n",
    "plt.legend(loc='lower right')\n",
    "plt.title('Training and Validation Accuracy')\n",
    "\n",
    "plt.subplot(1, 2, 2)\n",
    "plt.plot(epochs_range, loss, label='Training Loss')\n",
    "plt.plot(epochs_range, val_loss, label='Validation Loss')\n",
    "plt.legend(loc='upper right')\n",
    "plt.title('Training and Validation Loss')\n",
    "plt.show()"
   ]
  },
  {
   "cell_type": "markdown",
   "metadata": {
    "id": "dtv5VbaVb-3W"
   },
   "source": [
    "## Predict on new data"
   ]
  },
  {
   "cell_type": "markdown",
   "metadata": {
    "id": "10buWpJbcCQz"
   },
   "source": [
    "Finally, let's use our model to classify an image that wasn't included in the training or validation sets."
   ]
  },
  {
   "cell_type": "markdown",
   "metadata": {
    "id": "NKgMZ4bDcHf7"
   },
   "source": [
    "Note: Data augmentation and Dropout layers are inactive at inference time."
   ]
  },
  {
   "cell_type": "code",
   "execution_count": null,
   "metadata": {},
   "outputs": [],
   "source": [
    "class_names"
   ]
  },
  {
   "cell_type": "code",
   "execution_count": null,
   "metadata": {
    "execution": {
     "iopub.execute_input": "2021-01-08T05:01:10.560857Z",
     "iopub.status.busy": "2021-01-08T05:01:10.560231Z",
     "iopub.status.idle": "2021-01-08T05:01:10.921318Z",
     "shell.execute_reply": "2021-01-08T05:01:10.920799Z"
    },
    "id": "dC40sRITBSsQ"
   },
   "outputs": [],
   "source": [
    "def infer(test_path):\n",
    "    img = keras.preprocessing.image.load_img(\n",
    "        test_path, target_size=(img_height, img_width)\n",
    "    )\n",
    "    img_array = keras.preprocessing.image.img_to_array(img)\n",
    "    img_array = tf.expand_dims(img_array, 0) # Create a batch\n",
    "\n",
    "    predictions = model.predict(img_array)\n",
    "    score = tf.nn.softmax(predictions)\n",
    "\n",
    "    print('score',score)\n",
    "    ind = np.argmax(score[0].numpy())\n",
    "    cls = class_names[ind]\n",
    "    print('class predicted:',cls)\n",
    "    return cls, score\n",
    "test_path = 'DB/level1/warning/1_tensor(0).png'\n",
    "cls, score = infer(test_path)"
   ]
  },
  {
   "cell_type": "code",
   "execution_count": null,
   "metadata": {},
   "outputs": [],
   "source": [
    "test_path = 'DB/level1/prohibitory/0_tensor(0).png'\n",
    "cls, score = infer(test_path)"
   ]
  },
  {
   "cell_type": "code",
   "execution_count": null,
   "metadata": {},
   "outputs": [],
   "source": [
    "test_path = 'DB/level1/mandatory/2_tensor(0).png'\n",
    "cls, score = infer(test_path)"
   ]
  },
  {
   "cell_type": "code",
   "execution_count": null,
   "metadata": {},
   "outputs": [],
   "source": [
    "#model2=tf.keras.models.load_model(exprmnt+'.h5')"
   ]
  },
  {
   "cell_type": "code",
   "execution_count": null,
   "metadata": {},
   "outputs": [],
   "source": [
    "model.evaluate(val_ds)"
   ]
  },
  {
   "cell_type": "code",
   "execution_count": null,
   "metadata": {},
   "outputs": [],
   "source": []
  }
 ],
 "metadata": {
  "accelerator": "GPU",
  "colab": {
   "collapsed_sections": [],
   "name": "classification.ipynb",
   "toc_visible": true
  },
  "kernelspec": {
   "display_name": "venv3.6",
   "language": "python",
   "name": "venv3.6"
  },
  "language_info": {
   "codemirror_mode": {
    "name": "ipython",
    "version": 3
   },
   "file_extension": ".py",
   "mimetype": "text/x-python",
   "name": "python",
   "nbconvert_exporter": "python",
   "pygments_lexer": "ipython3",
   "version": "3.6.9"
  }
 },
 "nbformat": 4,
 "nbformat_minor": 1
}
